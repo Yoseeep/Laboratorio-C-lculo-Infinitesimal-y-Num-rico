{
 "cells": [
  {
   "cell_type": "markdown",
   "metadata": {},
   "source": [
    "<h3 style=\"font-size: 1.17em;\">PRÁCTICA 3. Interpolación polinomial</h3>\n"
   ]
  },
  {
   "cell_type": "markdown",
   "metadata": {},
   "source": [
    "NUMERO_CUESTIONARIO = 500"
   ]
  },
  {
   "cell_type": "markdown",
   "metadata": {},
   "source": [
    "EJERCICIO 1"
   ]
  },
  {
   "cell_type": "markdown",
   "metadata": {},
   "source": [
    "Dada la función  $f(x)=x^5−x^4+3x^2$ , consideremos un soporte  $S$  para valores de  $x∈\\{−2,−1,0,1,2\\}$ . Se pide:"
   ]
  },
  {
   "cell_type": "markdown",
   "metadata": {},
   "source": [
    "1. Hallar los polinomios auxiliares de Lagrange  $p(x)=L_0$ y  $q(x)=L_2$.\n",
    " "
   ]
  },
  {
   "cell_type": "code",
   "execution_count": 1,
   "metadata": {},
   "outputs": [
    {
     "data": {
      "text/html": [
       "<html><script type=\"math/tex; mode=display\">\\newcommand{\\Bold}[1]{\\mathbf{#1}}x^{5} - x^{4} + 3 \\, x^{2}</script></html>"
      ],
      "text/plain": [
       "x^5 - x^4 + 3*x^2"
      ]
     },
     "metadata": {},
     "output_type": "display_data"
    }
   ],
   "source": [
    "f(x) = x**5-x**4+3*x**2\n",
    "show(f(x))"
   ]
  },
  {
   "cell_type": "code",
   "execution_count": 10,
   "metadata": {},
   "outputs": [
    {
     "data": {
      "text/plain": [
       "[(-2, -36), (-1, 1), (0, 0), (1, 3), (2, 28)]"
      ]
     },
     "execution_count": 10,
     "metadata": {},
     "output_type": "execute_result"
    }
   ],
   "source": [
    "listax = [-2,-1,0,1,2]\n",
    "soporte = [(xi,f(xi)) for xi in listax]\n",
    "soporte"
   ]
  },
  {
   "cell_type": "code",
   "execution_count": 12,
   "metadata": {},
   "outputs": [],
   "source": [
    "def pol_aux_lagrange(soporte, i):\n",
    "    listax = [p[0] for p in soporte]\n",
    "    xi = listax.pop(i)\n",
    "    numerador = prod((x - xj) for xj in listax)\n",
    "    denominador = numerador(x = xi)\n",
    "    return numerador/denominador"
   ]
  },
  {
   "cell_type": "code",
   "execution_count": 13,
   "metadata": {},
   "outputs": [
    {
     "data": {
      "text/plain": [
       "1/24*(x + 1)*(x - 1)*(x - 2)*x"
      ]
     },
     "execution_count": 13,
     "metadata": {},
     "output_type": "execute_result"
    }
   ],
   "source": [
    "L0 = pol_aux_lagrange(soporte, 0)\n",
    "L0"
   ]
  },
  {
   "cell_type": "code",
   "execution_count": 14,
   "metadata": {},
   "outputs": [
    {
     "data": {
      "text/plain": [
       "1/4*(x + 2)*(x + 1)*(x - 1)*(x - 2)"
      ]
     },
     "execution_count": 14,
     "metadata": {},
     "output_type": "execute_result"
    }
   ],
   "source": [
    "L2 = pol_aux_lagrange(soporte, 2)\n",
    "L2"
   ]
  },
  {
   "cell_type": "markdown",
   "metadata": {},
   "source": [
    "Sol: 3)"
   ]
  },
  {
   "cell_type": "markdown",
   "metadata": {},
   "source": [
    "2. Aplicando las diferencias divididas de Newton a  $S$  , hallar el valor de  $f[−1,0,1,2]$"
   ]
  },
  {
   "cell_type": "code",
   "execution_count": 15,
   "metadata": {},
   "outputs": [],
   "source": [
    "def diferencias_divididas(soporte):\n",
    "    listax = [p[0] for p in soporte]\n",
    "    difdiv = [[p[1] for p in soporte]]\n",
    "    n = len(soporte)\n",
    "    for i in range(1, n):\n",
    "        difdiv.append([])\n",
    "        for j in range(n - i):\n",
    "            valor = (difdiv[i - 1][j + 1] - difdiv[i - 1][j])/(listax[j + i] - listax[j])\n",
    "            difdiv[i].append(valor)\n",
    "    return difdiv"
   ]
  },
  {
   "cell_type": "code",
   "execution_count": 16,
   "metadata": {},
   "outputs": [],
   "source": [
    "def grafica_diferencias_divididas(soporte):\n",
    "    tabla = diferencias_divididas(soporte)\n",
    "    n = len(tabla)\n",
    "    cabecera = [\"$x_i$\", \"$f(x_i)$\"]\n",
    "    ast=\"*\"\n",
    "    for i in range(n-1):\n",
    "        ast +=\"*\"\n",
    "        cabecera.append(\"$f[\"+ast+\"]$\")\n",
    "    tabla_amp = [[] for i in range(n+1)]\n",
    "    for k in soporte:\n",
    "        tabla_amp[0].append(k[0])\n",
    "        tabla_amp[0].append(\" \")\n",
    "    j = 0\n",
    "    for i in range(1,n+1):\n",
    "        aux = [\"\" for k in range(j)]\n",
    "        tabla_amp[i] = copy(aux)\n",
    "        for k in tabla[i-1]:\n",
    "            tabla_amp[i].append(k)\n",
    "            tabla_amp[i].append(\"\")\n",
    "        tabla_amp[i] = tabla_amp[i] + aux[:-1]\n",
    "        j = j + 1\n",
    "    return pretty_print(table(columns = tabla_amp, header_row=cabecera))"
   ]
  },
  {
   "cell_type": "code",
   "execution_count": 17,
   "metadata": {},
   "outputs": [
    {
     "data": {
      "text/html": [
       "<div class=\"notruncate\">\n",
       "<table  class=\"table_form\">\n",
       "<tbody>\n",
       "<tr>\n",
       "<th><script type=\"math/tex\">x_i</script></th>\n",
       "<th><script type=\"math/tex\">f(x_i)</script></th>\n",
       "<th><script type=\"math/tex\">f[**]</script></th>\n",
       "<th><script type=\"math/tex\">f[***]</script></th>\n",
       "<th><script type=\"math/tex\">f[****]</script></th>\n",
       "<th><script type=\"math/tex\">f[*****]</script></th>\n",
       "</tr>\n",
       "<tr class =\"row-a\">\n",
       "<td><script type=\"math/tex\">-2</script></td>\n",
       "<td><script type=\"math/tex\">-36</script></td>\n",
       "<td></td>\n",
       "<td></td>\n",
       "<td></td>\n",
       "<td></td>\n",
       "</tr>\n",
       "<tr class =\"row-b\">\n",
       "<td> </td>\n",
       "<td></td>\n",
       "<td><script type=\"math/tex\">37</script></td>\n",
       "<td></td>\n",
       "<td></td>\n",
       "<td></td>\n",
       "</tr>\n",
       "<tr class =\"row-a\">\n",
       "<td><script type=\"math/tex\">-1</script></td>\n",
       "<td><script type=\"math/tex\">1</script></td>\n",
       "<td></td>\n",
       "<td><script type=\"math/tex\">-19</script></td>\n",
       "<td></td>\n",
       "<td></td>\n",
       "</tr>\n",
       "<tr class =\"row-b\">\n",
       "<td> </td>\n",
       "<td></td>\n",
       "<td><script type=\"math/tex\">-1</script></td>\n",
       "<td></td>\n",
       "<td><script type=\"math/tex\">7</script></td>\n",
       "<td></td>\n",
       "</tr>\n",
       "<tr class =\"row-a\">\n",
       "<td><script type=\"math/tex\">0</script></td>\n",
       "<td><script type=\"math/tex\">0</script></td>\n",
       "<td></td>\n",
       "<td><script type=\"math/tex\">2</script></td>\n",
       "<td></td>\n",
       "<td><script type=\"math/tex\">-1</script></td>\n",
       "</tr>\n",
       "<tr class =\"row-b\">\n",
       "<td> </td>\n",
       "<td></td>\n",
       "<td><script type=\"math/tex\">3</script></td>\n",
       "<td></td>\n",
       "<td><script type=\"math/tex\">3</script></td>\n",
       "<td></td>\n",
       "</tr>\n",
       "<tr class =\"row-a\">\n",
       "<td><script type=\"math/tex\">1</script></td>\n",
       "<td><script type=\"math/tex\">3</script></td>\n",
       "<td></td>\n",
       "<td><script type=\"math/tex\">11</script></td>\n",
       "<td></td>\n",
       "<td></td>\n",
       "</tr>\n",
       "<tr class =\"row-b\">\n",
       "<td> </td>\n",
       "<td></td>\n",
       "<td><script type=\"math/tex\">25</script></td>\n",
       "<td></td>\n",
       "<td></td>\n",
       "<td></td>\n",
       "</tr>\n",
       "<tr class =\"row-a\">\n",
       "<td><script type=\"math/tex\">2</script></td>\n",
       "<td><script type=\"math/tex\">28</script></td>\n",
       "<td></td>\n",
       "<td></td>\n",
       "<td></td>\n",
       "<td></td>\n",
       "</tr>\n",
       "</tbody>\n",
       "</table>\n",
       "</div>"
      ],
      "text/plain": [
       "  $x_i$   $f(x_i)$   $f[**]$   $f[***]$   $f[****]$   $f[*****]$\n",
       "+-------+----------+---------+----------+-----------+------------+\n",
       "  -2      -36\n",
       "                     37\n",
       "  -1      1                    -19\n",
       "                     -1                   7\n",
       "  0       0                    2                      -1\n",
       "                     3                    3\n",
       "  1       3                    11\n",
       "                     25\n",
       "  2       28"
      ]
     },
     "metadata": {},
     "output_type": "display_data"
    }
   ],
   "source": [
    "grafica_diferencias_divididas(soporte)"
   ]
  },
  {
   "cell_type": "markdown",
   "metadata": {},
   "source": [
    "El $f[−1,0,1,2]$ es el 2º elemento de la penúltima columna; es este caso, 3"
   ]
  },
  {
   "cell_type": "markdown",
   "metadata": {},
   "source": [
    "Sol: 3)"
   ]
  },
  {
   "cell_type": "markdown",
   "metadata": {},
   "source": [
    "3. Indicar el valor del coeficiente del término de grado  $3$  del polinomio de interpolación asociado al soporte  $S$ ."
   ]
  },
  {
   "cell_type": "code",
   "execution_count": 18,
   "metadata": {},
   "outputs": [],
   "source": [
    "def polinomio_newton(soporte):\n",
    "    coef_newton = [v[0] for v in diferencias_divididas(soporte)]\n",
    "    listax = [p[0] for p in soporte]\n",
    "    pol = []\n",
    "    pol.append(1)\n",
    "    n = len(soporte) - 1\n",
    "    p(x) = coef_newton[0]\n",
    "    for i in range(1, n + 1):\n",
    "        pol.append(pol[i - 1]*(x - listax[i - 1]))\n",
    "        p(x) = p(x) + coef_newton[i]*pol[i]\n",
    "    return p(x)"
   ]
  },
  {
   "cell_type": "code",
   "execution_count": 22,
   "metadata": {},
   "outputs": [
    {
     "data": {
      "text/html": [
       "<html><script type=\"math/tex; mode=display\">\\newcommand{\\Bold}[1]{\\mathbf{#1}}-{\\left(x + 2\\right)} {\\left(x + 1\\right)} {\\left(x - 1\\right)} x + 7 \\, {\\left(x + 2\\right)} {\\left(x + 1\\right)} x - 19 \\, {\\left(x + 2\\right)} {\\left(x + 1\\right)} + 37 \\, x + 38</script></html>"
      ],
      "text/plain": [
       "-(x + 2)*(x + 1)*(x - 1)*x + 7*(x + 2)*(x + 1)*x - 19*(x + 2)*(x + 1) + 37*x + 38"
      ]
     },
     "metadata": {},
     "output_type": "display_data"
    },
    {
     "data": {
      "text/html": [
       "<html><script type=\"math/tex; mode=display\">\\newcommand{\\Bold}[1]{\\mathbf{#1}}-x^{4} + 5 \\, x^{3} + 3 \\, x^{2} - 4 \\, x</script></html>"
      ],
      "text/plain": [
       "-x^4 + 5*x^3 + 3*x^2 - 4*x"
      ]
     },
     "metadata": {},
     "output_type": "display_data"
    }
   ],
   "source": [
    "p(x) = polinomio_newton(soporte)\n",
    "show(p(x))\n",
    "show(expand(p(x)))   ## versión simplificada del polinomio interpolador"
   ]
  },
  {
   "cell_type": "markdown",
   "metadata": {},
   "source": [
    "Vemos que en $5x^3$, el coeficiente es 5"
   ]
  },
  {
   "cell_type": "markdown",
   "metadata": {},
   "source": [
    "Sol: 1)"
   ]
  },
  {
   "cell_type": "markdown",
   "metadata": {},
   "source": [
    "4. Hallar el valor aproximado de  $f(1.5)$ empleando el polinomio de interpolación."
   ]
  },
  {
   "cell_type": "code",
   "execution_count": 24,
   "metadata": {},
   "outputs": [
    {
     "name": "stdout",
     "output_type": "stream",
     "text": [
      "P( 1.50000000000000 ) = 12.5625000000000\n"
     ]
    }
   ],
   "source": [
    "c = 1.5\n",
    "print('P(',c,') =',p(c).n())  "
   ]
  },
  {
   "cell_type": "markdown",
   "metadata": {},
   "source": [
    "Sol: 2)"
   ]
  },
  {
   "cell_type": "code",
   "execution_count": null,
   "metadata": {},
   "outputs": [],
   "source": []
  },
  {
   "cell_type": "markdown",
   "metadata": {},
   "source": [
    "EJERCICIO 2"
   ]
  },
  {
   "cell_type": "markdown",
   "metadata": {},
   "source": [
    "Sea  $f(x)$  una función tal que  $f(1)=−2$ . Se sabe que el polinomio interpolador de  $f(x)$  en el soporte para valores de  $x$ ,  $S=\\{−2,−1,0\\}$  , es  $P(x)=−1−2x+x^2$. Se pide:"
   ]
  },
  {
   "cell_type": "markdown",
   "metadata": {},
   "source": [
    "1. Calcula el polinomio interpolador  $Q(x)$  de  $f(x)$  en el soporte  $S∪\\{1\\}$"
   ]
  },
  {
   "cell_type": "code",
   "execution_count": 25,
   "metadata": {},
   "outputs": [
    {
     "data": {
      "text/html": [
       "<html><script type=\"math/tex; mode=display\">\\newcommand{\\Bold}[1]{\\mathbf{#1}}x^{2} - 2 \\, x - 1</script></html>"
      ],
      "text/plain": [
       "x^2 - 2*x - 1"
      ]
     },
     "metadata": {},
     "output_type": "display_data"
    }
   ],
   "source": [
    "p(x) = -1-2*x+x**2\n",
    "show(p(x))"
   ]
  },
  {
   "cell_type": "code",
   "execution_count": 27,
   "metadata": {},
   "outputs": [
    {
     "data": {
      "text/plain": [
       "[(-2, 7), (-1, 2), (0, -1), (1, -2)]"
      ]
     },
     "execution_count": 27,
     "metadata": {},
     "output_type": "execute_result"
    }
   ],
   "source": [
    "soporte = [(-2,p(-2)),(-1,p(-1)),(0,p(0)),(1,-2)]\n",
    "soporte"
   ]
  },
  {
   "cell_type": "code",
   "execution_count": 28,
   "metadata": {},
   "outputs": [
    {
     "data": {
      "text/html": [
       "<html><script type=\"math/tex; mode=display\">\\newcommand{\\Bold}[1]{\\mathbf{#1}}{\\left(x + 2\\right)} {\\left(x + 1\\right)} - 5 \\, x - 3</script></html>"
      ],
      "text/plain": [
       "(x + 2)*(x + 1) - 5*x - 3"
      ]
     },
     "metadata": {},
     "output_type": "display_data"
    },
    {
     "data": {
      "text/html": [
       "<html><script type=\"math/tex; mode=display\">\\newcommand{\\Bold}[1]{\\mathbf{#1}}x^{2} - 2 \\, x - 1</script></html>"
      ],
      "text/plain": [
       "x^2 - 2*x - 1"
      ]
     },
     "metadata": {},
     "output_type": "display_data"
    }
   ],
   "source": [
    "q(x) = polinomio_newton(soporte)\n",
    "show(q(x))\n",
    "show(expand(q(x))) "
   ]
  },
  {
   "cell_type": "markdown",
   "metadata": {},
   "source": [
    "Nota: Sabíamos que era él mismo porque P(1)=-2 y P(x) tiene grado menor o igual que len(soporte)-1==4-1==3"
   ]
  },
  {
   "cell_type": "markdown",
   "metadata": {},
   "source": [
    "Sol: 3)"
   ]
  },
  {
   "cell_type": "markdown",
   "metadata": {},
   "source": [
    "2. Calcula el polinomio interpolador  $R(x)$  de  $x^2f(x)$  en el soporte  $S_1=\\{−1,0,1\\}$"
   ]
  },
  {
   "cell_type": "code",
   "execution_count": 33,
   "metadata": {},
   "outputs": [
    {
     "data": {
      "text/plain": [
       "[(-1, 2), (0, 0), (1, -2)]"
      ]
     },
     "execution_count": 33,
     "metadata": {},
     "output_type": "execute_result"
    }
   ],
   "source": [
    "listax = [-1,0,1]\n",
    "soporte = [(xi,xi**2 * p(xi)) for xi in listax]\n",
    "soporte"
   ]
  },
  {
   "cell_type": "code",
   "execution_count": 34,
   "metadata": {},
   "outputs": [
    {
     "data": {
      "text/html": [
       "<html><script type=\"math/tex; mode=display\">\\newcommand{\\Bold}[1]{\\mathbf{#1}}-2 \\, x</script></html>"
      ],
      "text/plain": [
       "-2*x"
      ]
     },
     "metadata": {},
     "output_type": "display_data"
    },
    {
     "data": {
      "text/html": [
       "<html><script type=\"math/tex; mode=display\">\\newcommand{\\Bold}[1]{\\mathbf{#1}}-2 \\, x</script></html>"
      ],
      "text/plain": [
       "-2*x"
      ]
     },
     "metadata": {},
     "output_type": "display_data"
    }
   ],
   "source": [
    "r(x) = polinomio_newton(soporte)\n",
    "show(r(x))\n",
    "show(expand(r(x))) "
   ]
  },
  {
   "cell_type": "markdown",
   "metadata": {},
   "source": [
    "Sol: 1)"
   ]
  },
  {
   "cell_type": "markdown",
   "metadata": {},
   "source": [
    "3. Calcula el polinomio interpolador  $S(x)$  de  $−x+f(x)$  en el soporte  $S_2=\\{−2,−1,0\\}$"
   ]
  },
  {
   "cell_type": "code",
   "execution_count": 35,
   "metadata": {},
   "outputs": [
    {
     "data": {
      "text/plain": [
       "[(-2, 9), (-1, 3), (0, -1)]"
      ]
     },
     "execution_count": 35,
     "metadata": {},
     "output_type": "execute_result"
    }
   ],
   "source": [
    "listax = [-2,-1,0]\n",
    "soporte = [(xi,-xi + p(xi)) for xi in listax]\n",
    "soporte"
   ]
  },
  {
   "cell_type": "code",
   "execution_count": 37,
   "metadata": {},
   "outputs": [
    {
     "data": {
      "text/html": [
       "<html><script type=\"math/tex; mode=display\">\\newcommand{\\Bold}[1]{\\mathbf{#1}}{\\left(x + 2\\right)} {\\left(x + 1\\right)} - 6 \\, x - 3</script></html>"
      ],
      "text/plain": [
       "(x + 2)*(x + 1) - 6*x - 3"
      ]
     },
     "metadata": {},
     "output_type": "display_data"
    },
    {
     "data": {
      "text/html": [
       "<html><script type=\"math/tex; mode=display\">\\newcommand{\\Bold}[1]{\\mathbf{#1}}x^{2} - 3 \\, x - 1</script></html>"
      ],
      "text/plain": [
       "x^2 - 3*x - 1"
      ]
     },
     "metadata": {},
     "output_type": "display_data"
    }
   ],
   "source": [
    "s(x) = polinomio_newton(soporte)\n",
    "show(s(x))\n",
    "show(expand(s(x))) "
   ]
  },
  {
   "cell_type": "markdown",
   "metadata": {},
   "source": [
    "Sol: 2)"
   ]
  },
  {
   "cell_type": "code",
   "execution_count": null,
   "metadata": {},
   "outputs": [],
   "source": []
  }
 ],
 "metadata": {
  "kernelspec": {
   "display_name": "SageMath 9.1",
   "language": "sage",
   "name": "sagemath"
  },
  "language_info": {
   "codemirror_mode": {
    "name": "ipython",
    "version": 3
   },
   "file_extension": ".py",
   "mimetype": "text/x-python",
   "name": "python",
   "nbconvert_exporter": "python",
   "pygments_lexer": "ipython3",
   "version": "3.7.3"
  }
 },
 "nbformat": 4,
 "nbformat_minor": 1
}
