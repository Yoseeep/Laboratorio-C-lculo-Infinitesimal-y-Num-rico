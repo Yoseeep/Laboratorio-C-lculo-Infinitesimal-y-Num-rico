{
 "cells": [
  {
   "cell_type": "markdown",
   "metadata": {},
   "source": [
    "Me tocó el número 221."
   ]
  },
  {
   "cell_type": "markdown",
   "metadata": {},
   "source": [
    "<h3> EJERCICIO 1. </h3>"
   ]
  },
  {
   "cell_type": "code",
   "execution_count": 3,
   "metadata": {},
   "outputs": [],
   "source": [
    "f(x) = x**4 - 2*x"
   ]
  },
  {
   "cell_type": "markdown",
   "metadata": {},
   "source": [
    "APARTADO 1.1 --- Sol: 2"
   ]
  },
  {
   "cell_type": "code",
   "execution_count": 5,
   "metadata": {},
   "outputs": [
    {
     "data": {
      "text/plain": [
       "3.6641"
      ]
     },
     "execution_count": 5,
     "metadata": {},
     "output_type": "execute_result"
    }
   ],
   "source": [
    "f(-1.1).n(digits=5)"
   ]
  },
  {
   "cell_type": "markdown",
   "metadata": {},
   "source": [
    "APARTADO 1.2 --- Sol: 4"
   ]
  },
  {
   "cell_type": "code",
   "execution_count": 20,
   "metadata": {},
   "outputs": [
    {
     "name": "stdout",
     "output_type": "stream",
     "text": [
      "Derivada primera de f: 4*x^3 - 2\n",
      "Derivada segunda de f: 12*x^2\n"
     ]
    }
   ],
   "source": [
    "derf1(x) = diff(f,x)\n",
    "print(\"Derivada primera de f:\", derf1(x))\n",
    "derf2(x) = diff(derf1,x)\n",
    "print(\"Derivada segunda de f:\", derf2(x))"
   ]
  },
  {
   "cell_type": "code",
   "execution_count": null,
   "metadata": {},
   "outputs": [],
   "source": [
    "APARTADO 1.3 --- Sol: 3"
   ]
  },
  {
   "cell_type": "code",
   "execution_count": 23,
   "metadata": {},
   "outputs": [
    {
     "name": "stdout",
     "output_type": "stream",
     "text": [
      "615\n"
     ]
    }
   ],
   "source": [
    "limite = limit(f(x),x=5)\n",
    "print(limite)"
   ]
  },
  {
   "cell_type": "markdown",
   "metadata": {},
   "source": [
    "APARTADO 1.4 --- Sol: 1"
   ]
  },
  {
   "cell_type": "code",
   "execution_count": 24,
   "metadata": {},
   "outputs": [],
   "source": [
    "integral?"
   ]
  },
  {
   "cell_type": "code",
   "execution_count": 33,
   "metadata": {},
   "outputs": [
    {
     "name": "stdout",
     "output_type": "stream",
     "text": [
      "Intergral de f: 1/5*x^5 - x^2\n"
     ]
    }
   ],
   "source": [
    "intf(x) = f(x).integral(x)\n",
    "print(\"Intergral de f:\", intf(x))"
   ]
  },
  {
   "cell_type": "markdown",
   "metadata": {},
   "source": [
    "APARTADO 1.5 --- Sol: 4"
   ]
  },
  {
   "cell_type": "code",
   "execution_count": 34,
   "metadata": {},
   "outputs": [
    {
     "data": {
      "text/plain": [
       "202/5"
      ]
     },
     "execution_count": 34,
     "metadata": {},
     "output_type": "execute_result"
    }
   ],
   "source": [
    "f(x).integral(x,1,3)"
   ]
  },
  {
   "cell_type": "markdown",
   "metadata": {},
   "source": [
    "<h3> EJERCICIO 2. </h3>"
   ]
  },
  {
   "cell_type": "code",
   "execution_count": 4,
   "metadata": {},
   "outputs": [],
   "source": [
    "f(x) = x+sin(x-1)\n",
    "g(x) = exp(-x+(1/2))"
   ]
  },
  {
   "cell_type": "code",
   "execution_count": 41,
   "metadata": {
    "scrolled": true
   },
   "outputs": [
    {
     "data": {
      "image/png": "[encoded data removed]",
      "text/plain": [
       "Graphics object consisting of 2 graphics primitives"
      ]
     },
     "metadata": {},
     "output_type": "display_data"
    }
   ],
   "source": [
    "grafico1 = f(x).plot((-2,3),color='blue')\n",
    "grafico2 = g(x).plot((-2,3),color='red')\n",
    "show(grafico1 + grafico2)"
   ]
  },
  {
   "cell_type": "markdown",
   "metadata": {},
   "source": [
    "APARTADO 2.1 --- Sol: 4"
   ]
  },
  {
   "cell_type": "markdown",
   "metadata": {},
   "source": [
    "Vemos que en la representación anterior, en color azul, f(x) = 0 entre 0 y 1."
   ]
  },
  {
   "cell_type": "markdown",
   "metadata": {},
   "source": [
    "APARTADO 2.2 --- Sol: 3"
   ]
  },
  {
   "cell_type": "code",
   "execution_count": 43,
   "metadata": {},
   "outputs": [
    {
     "name": "stdout",
     "output_type": "stream",
     "text": [
      "Ecuación de la recta tangente de f en el punto x=1: 2*x - 1\n"
     ]
    }
   ],
   "source": [
    "derf1(x) = diff(f(x),x)\n",
    "rt(x) = derf1(1)*(x-1) + f(1)\n",
    "print(\"Ecuación de la recta tangente de f en el punto x=1:\", rt(x))"
   ]
  },
  {
   "cell_type": "markdown",
   "metadata": {},
   "source": [
    "APARTADO 2.3 --- Sol: 1"
   ]
  },
  {
   "cell_type": "markdown",
   "metadata": {},
   "source": [
    "Vemos que en la representación anterior, las gráficas de f y g se cortan en un punto entre 0 y 1."
   ]
  },
  {
   "cell_type": "markdown",
   "metadata": {},
   "source": [
    "APARTADO 2.4 --- Sol: 1"
   ]
  },
  {
   "cell_type": "code",
   "execution_count": 9,
   "metadata": {
    "scrolled": false
   },
   "outputs": [
    {
     "name": "stdout",
     "output_type": "stream",
     "text": [
      "El valor máximo de f o g en x=2.8 es f(2.8) = 3.77384763087819\n"
     ]
    }
   ],
   "source": [
    "valorf = f(2.8)\n",
    "valorg = g(2.8)\n",
    "\n",
    "\n",
    "if valorf > valorg:\n",
    "    print(f\"El valor máximo de f o g en x=2.8 es f(2.8) = {valorf}\")\n",
    "elif valorf == valorg:\n",
    "    print(f\"Los valores de f y g en x=2.8 son iguales, f(2.8)=g(2.8)={valorf}\")\n",
    "else:\n",
    "    print(f\"El valor máximo de f o g en x=2.8 es g(2.8) = {valorg}\")"
   ]
  },
  {
   "cell_type": "code",
   "execution_count": null,
   "metadata": {},
   "outputs": [],
   "source": []
  }
 ],
 "metadata": {
  "kernelspec": {
   "display_name": "SageMath 9.1",
   "language": "sage",
   "name": "sagemath"
  },
  "language_info": {
   "codemirror_mode": {
    "name": "ipython",
    "version": 3
   },
   "file_extension": ".py",
   "mimetype": "text/x-python",
   "name": "python",
   "nbconvert_exporter": "python",
   "pygments_lexer": "ipython3",
   "version": "3.7.3"
  }
 },
 "nbformat": 4,
 "nbformat_minor": 2
}
