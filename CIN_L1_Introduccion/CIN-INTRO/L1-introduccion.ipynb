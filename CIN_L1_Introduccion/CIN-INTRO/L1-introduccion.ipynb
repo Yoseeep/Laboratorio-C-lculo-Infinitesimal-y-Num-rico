{
 "cells": [
  {
   "cell_type": "markdown",
   "metadata": {},
   "source": [
    "<p><a name=\"Inicio\"></a></p>\n",
    "<h3 style=\"font-size: 1.17em; text-align: center;\">ESCUELA TÉCNICA SUPERIOR DE INGENIERÍA INFORMÁTICA</h3>\n",
    "<h3 style=\"font-size: 1.17em; text-align: center;\">UNIVERSIDAD DE SEVILLA</h3>\n",
    "<h4 style=\"font-size: 1em; text-align: center;\"><strong>CÁLCULO INFINITESIMAL Y NUMÉRICO</strong></h4>\n",
    "<p><strong><br /></strong></p>\n",
    "<h3 style=\"font-size: 1.17em;\">PRÁCTICA 1: Introducción a SageMath y repaso de cálculo infinitesimal de una variable</h3>\n",
    "<p>En esta primera sesión nos marcamos los siguientes objetivos:</p>\n",
    "<ul>\n",
    "<li>Dar una <a href=\"#introduccion\">introducción</a> al software SageMath y al manejo de esta interfaz.</li>\n",
    "<li>Familiarizarnos con los <a href=\"#basico\">procedimientos básicos</a> del cálculo infinitesimal de una variable.</li>\n",
    "<li>Estudiar las <a href=\"#representacion\">representaciones gráficas</a> de funciones de una variable.</li>\n",
    "<li><a href=\"#programacion\">Programación con SageMath</a>: creación de una función, rutina o algoritmo en SageMath.</li>\n",
    "</ul>\n",
    "<p>La práctica finaliza con la resolución por parte del alumnado de un <a href=\"#cuestionario\">cuestionario</a> con respuestas tipo test que ponga a prueba el nivel de comprensión de los contenidos presentados.</p>"
   ]
  },
  {
   "cell_type": "markdown",
   "metadata": {},
   "source": [
    "<h2><a name=\"intro\"></a> Introducción a SageMath</h2>\n",
    "<h3 style=\"font-size: 1.17em;\">Breve descripción</h3>\n",
    "<p>SageMath es un paquete de <strong>software matemático libre y de código abierto</strong> bajo licencia GNU GPL. En realidad SageMath engloba, bajo una misma interfaz, a cerca de un centenar de paquetes de software matemático libre, poniéndolos a disposición del usuario de forma transparente. El lenguaje de programación empleado para ello es <strong>Python </strong>(actualmente Python 3 a partir de versión de SageMath 9.x) y en ese sentido, el lenguaje propio de SageMath es compatible en un 99% con Python.  Intentaremos dar una pequeña introducción al manejo de SageMath desde la asignatura de Cálculo Infinitesimal y Numérico.</p>\n",
    "<h3 style=\"font-size: 1.17em;\">Manejo de esta interfaz<span style=\"font-weight: normal; font-size: small;\"> <br /></span></h3>\n",
    "\n",
    "Este documento es un ejemplo de cuaderno (**notebook**) en SageMath, en formato `.ipynb` (ipython notebook), visualizado por medio de la interfaz *Jupyter*. \n",
    "    \n",
    "Hay dos tipos de recuadros o espacios (celdas)  a lo largo del documento: \n",
    "* los que no son ejecutables, que normalmente contienen texto, como este espacio que estás leyendo. Son celdas \"Markdown\" ya que se utiliza la [sintaxis Markdown](https://es.wikipedia.org/wiki/Markdown) utilizada también en muchos wikis. \n",
    "* y  recuadros ejecutables (contienen instrucciones ó código de SageMath). "
   ]
  },
  {
   "cell_type": "markdown",
   "metadata": {},
   "source": [
    "Esta celda es una celda de texto. Para editar esta celda, haz doble-click en la celda. Puedes guardar y visualizar tus modificaciones con *Shift+Enter* o *Ctrl+Enter*.  \n",
    "\n",
    "La sintaxis Markdown permite\n",
    "* insertar facilmente listas, hyperenlaces...\n",
    "* **enfatizar** de *varias maneras* ...\n",
    "\n",
    "Se puede utilizar también <font color=\"red\">sintaxís HTML </font>. <br /> <br />\n",
    "Para escribir formulas de matemáticas, se puede utilizar la sintaxís [LaTeX](https://es.wikipedia.org/wiki/LaTeX). Por ejemplo: \n",
    "$$\\int_0^{\\infty} e^{-\\frac{x^2}{2}} dx = \\sqrt{\\frac{\\pi}{2}}.$$\n",
    "\n",
    ">*Haz doble-click en esta celda para ver como este texto fue elaborado con Markdown, HTML y LaTeX.*\n",
    "\n",
    "La celda que viene a continuación es una celda de código. Haz clic en dicha celda para colocar el cursor en ella, y luego *Shift+Enter* o *Ctrl+Enter* para ejecutar el código.\n",
    "Si SageMath devuelve un resultado, lo hace en el espacio inferior, justo debajo de la celda."
   ]
  },
  {
   "cell_type": "code",
   "execution_count": 1,
   "metadata": {},
   "outputs": [
    {
     "name": "stdout",
     "output_type": "stream",
     "text": [
      "Hello world!\n",
      "1+1= 2\n"
     ]
    }
   ],
   "source": [
    "print(\"Hello world!\")\n",
    "print(\"1+1=\",1+1)"
   ]
  },
  {
   "cell_type": "markdown",
   "metadata": {},
   "source": [
    "Puedes \n",
    "* modificar el tipo de una celda (de texto/de código) por medio del menú \"Cell/Cell Type\", o, después de haber pinchado en el margen a la izquierda, tecleando `M` (texto) o `Y` (código).\n",
    "* insertar nuevas celdas con el menú \"Insert\" o pinchando en el icono \"+\" debajo del menú \"File\". La nueva celda insertada con \"+\" es, por defecto, una celda de comandos. \n",
    "* eliminar, copiar, mover, unir celdas con el menú \"Edit\" o los atajos adecuados.\n",
    "\n",
    "Las modificaciones realizadas en el cuaderno se hacen automáticamente. Se puede adicionalmente guardar manualmente un fichero utilizando el menu \"File/Save and Checkpoint\", o pinchando en el icono de disco junto al menú \"File\". Para cerrar el cuaderno, utiliza \"File/Close and halt\"."
   ]
  },
  {
   "cell_type": "markdown",
   "metadata": {},
   "source": [
    "<h4>Ejemplo</h4>\n",
    "<p>A continuación, ejecuta las instrucciones de las siguientes celdas y experimenta con la inserción de nuevas celdas ejecutables y de texto.</p>"
   ]
  },
  {
   "cell_type": "code",
   "execution_count": 2,
   "metadata": {},
   "outputs": [
    {
     "data": {
      "text/plain": [
       "4"
      ]
     },
     "execution_count": 2,
     "metadata": {},
     "output_type": "execute_result"
    }
   ],
   "source": [
    "5 + 2*3 - (4 + 3)"
   ]
  },
  {
   "cell_type": "code",
   "execution_count": 3,
   "metadata": {},
   "outputs": [
    {
     "data": {
      "text/plain": [
       "5/6"
      ]
     },
     "execution_count": 3,
     "metadata": {},
     "output_type": "execute_result"
    }
   ],
   "source": [
    "5 - 3*2; 2 + 3^2; 1/3 + 1/2"
   ]
  },
  {
   "cell_type": "code",
   "execution_count": 4,
   "metadata": {},
   "outputs": [
    {
     "data": {
      "text/plain": [
       "5/6"
      ]
     },
     "execution_count": 4,
     "metadata": {},
     "output_type": "execute_result"
    }
   ],
   "source": [
    "5 - 3*2\n",
    "2 + 3^2\n",
    "1/3 + 1/2"
   ]
  },
  {
   "cell_type": "code",
   "execution_count": 5,
   "metadata": {},
   "outputs": [
    {
     "name": "stdout",
     "output_type": "stream",
     "text": [
      "-1\n",
      "11\n",
      "5/6\n"
     ]
    }
   ],
   "source": [
    "print(5 - 3*2)\n",
    "print(2 + 3^2)\n",
    "print(1/3 + 1/2)"
   ]
  },
  {
   "cell_type": "code",
   "execution_count": 6,
   "metadata": {},
   "outputs": [
    {
     "data": {
      "text/html": [
       "<html><script type=\"math/tex; mode=display\">\\newcommand{\\Bold}[1]{\\mathbf{#1}}\\frac{5}{6}</script></html>"
      ],
      "text/plain": [
       "5/6"
      ]
     },
     "metadata": {},
     "output_type": "display_data"
    }
   ],
   "source": [
    "pretty_print(1/3 + 1/2)"
   ]
  },
  {
   "cell_type": "markdown",
   "metadata": {},
   "source": [
    "<p>SageMath es un lenguaje orientado a objetos. En SageMath hay <span style=\"color: #0000ff;\">funciones</span> y <span style=\"color: #0000ff;\">métodos</span>. Para usar una función escribimos el nombre de la función y entre parántesis el objeto al que se le aplica la función. Si usamos un método, primero escribimos el objeto sobre el que se va a actuar, a continuación un punto y finalmente el método, con paréntesis, en cuyo interior se pueden escribir las opciones (en caso necesario). </p>\n",
    "<h4>Ejemplo</h4>\n",
    "<p>En el siguiente ejemplo hemos usado  la función <span style=\"color: #0000ff;\">sqrt( )</span> para hallar la raiz cuadrada del número 2 y el método <span style=\"color: #0000ff;\">n( )</span> para hallar una aproximación numérica en coma flotante. Como opción, en el último caso, hemos precisado el número de cifras decimales con <span style=\"color: #0000ff;\">digits</span>.</p>"
   ]
  },
  {
   "cell_type": "code",
   "execution_count": 7,
   "metadata": {},
   "outputs": [
    {
     "name": "stdout",
     "output_type": "stream",
     "text": [
      "sqrt(2)\n",
      "1.41421356237310\n",
      "1.414214\n"
     ]
    }
   ],
   "source": [
    "print(sqrt(2))\n",
    "print(sqrt(2).n())\n",
    "print(sqrt(2).n(digits = 7))"
   ]
  },
  {
   "cell_type": "markdown",
   "metadata": {},
   "source": [
    "<p>Podemos obtener una representación de los resultados más amigable con la función <span style=\"color: #0000ff;\">show()</span>:</p>"
   ]
  },
  {
   "cell_type": "code",
   "execution_count": 8,
   "metadata": {},
   "outputs": [
    {
     "name": "stdout",
     "output_type": "stream",
     "text": [
      "sqrt(2)\n"
     ]
    },
    {
     "data": {
      "text/html": [
       "<html><script type=\"math/tex; mode=display\">\\newcommand{\\Bold}[1]{\\mathbf{#1}}\\sqrt{2}</script></html>"
      ],
      "text/plain": [
       "sqrt(2)"
      ]
     },
     "metadata": {},
     "output_type": "display_data"
    }
   ],
   "source": [
    "print(sqrt(2))\n",
    "show(sqrt(2))"
   ]
  },
  {
   "cell_type": "markdown",
   "metadata": {},
   "source": [
    "<p>La notación de función nos resulta más próxima a la escritura en Matemáticas. Sin embargo, los métodos o atributos tienen una ventaja adicional: como primero tenemos que escribir el objeto, SageMath \"sabe\" qué métodos se pueden aplicar a dicho objeto. Si escribimos un objeto, a continuación un punto y pulsamos el tabulador nos aparece un listado con todos los métodos que se pueden aplicar a dicho objeto. Si hemos empezado a escribir el objeto y pulsamos el tabulador, el programa completará el nombre o nos dará las diversas posibilidades, si hay más de una.</p>\n",
    "<p>Para obtener ayuda sobre un método o función sustituimos los paréntesis por el signo de interrogación \"?\" y pulsamos el tabulador.</p>\n",
    "<p>La asignación de un valor a cierta variable en SageMath se hace con el signo de la igualdad, uno solo.</p>\n",
    "<p>﻿</p>"
   ]
  },
  {
   "cell_type": "code",
   "execution_count": 9,
   "metadata": {},
   "outputs": [],
   "source": [
    "a = 7/3"
   ]
  },
  {
   "cell_type": "code",
   "execution_count": 10,
   "metadata": {},
   "outputs": [
    {
     "data": {
      "text/plain": [
       "3"
      ]
     },
     "execution_count": 10,
     "metadata": {},
     "output_type": "execute_result"
    }
   ],
   "source": [
    "a.denominator()"
   ]
  },
  {
   "cell_type": "markdown",
   "metadata": {},
   "source": [
    "> &#9758; Existe una facilidad de autocompletado para las funciones y métodos. Si, por ejemplo, tecleas en una celda ejecutable  `a.den` y presionas la tecla de tabulación, te saldrá un listado con las posibilidades para completar. Elige con el cursor la que quieras.\n",
    "Haz la prueba en la siguiente celda ejecutable."
   ]
  },
  {
   "cell_type": "code",
   "execution_count": 11,
   "metadata": {
    "scrolled": true
   },
   "outputs": [],
   "source": [
    "           # teclea en el espacio de la izquierda  a.den  y pulsa la tecla tabulador."
   ]
  },
  {
   "cell_type": "code",
   "execution_count": 12,
   "metadata": {
    "scrolled": true
   },
   "outputs": [
    {
     "name": "stdout",
     "output_type": "stream",
     "text": [
      "Help on built-in function denominator:\n",
      "\n",
      "denominator(...) method of sage.rings.rational.Rational instance\n",
      "    Rational.denominator(self)\n",
      "    File: sage/rings/rational.pyx (starting at line 3042)\n",
      "    \n",
      "            Returns the denominator of this rational number.\n",
      "            denom is an alias of denominator.\n",
      "    \n",
      "            EXAMPLES::\n",
      "    \n",
      "                sage: x = -5/11\n",
      "                sage: x.denominator()\n",
      "                11\n",
      "    \n",
      "                sage: x = 9/3\n",
      "                sage: x.denominator()\n",
      "                1\n",
      "    \n",
      "                sage: x = 5/13\n",
      "                sage: x.denom()\n",
      "                13\n",
      "\n"
     ]
    }
   ],
   "source": [
    "help(a.denominator) # para obtener ayuda como resultado"
   ]
  },
  {
   "cell_type": "markdown",
   "metadata": {},
   "source": [
    "<p><a href=\"#Inicio\">Volver al Índice</a></p>"
   ]
  },
  {
   "cell_type": "markdown",
   "metadata": {},
   "source": [
    "<p><a name=\"basico\"></a></p>\n",
    "<h3>Procedimientos básicos para funciones reales de una variable real</h3>\n",
    "<p>SageMath incorpora todas las funciones elementales habituales y presentes en las calculadoras científicas. Podemos ver una lista de las mismas sin más que asignar un valor numérico real a cierta variable y pedir luego los métodos disponibles para dicho valor numérico. Entre tales métodos, podremos encontrar las funciones elementales exponencial, logaritmica, trigonométricas, etc.</p>\n",
    "<p>También podemos definir nuestras propias funciones reales y hacer cálculos básicos con ellas. En general, primero hay que declarar la variable que vamos a emplear.</p>"
   ]
  },
  {
   "cell_type": "code",
   "execution_count": 13,
   "metadata": {},
   "outputs": [],
   "source": [
    "a = 3."
   ]
  },
  {
   "cell_type": "markdown",
   "metadata": {},
   "source": [
    "> &#9758; Podemos ahora usar el autocompletado: teclea `a.`, coloca el cursor tras el punto  y pulsa la tecla Tab del tabulador, para ver los métodos que se aplican al número 3, previamente guardado con el nombre `a`."
   ]
  },
  {
   "cell_type": "code",
   "execution_count": 14,
   "metadata": {
    "scrolled": true
   },
   "outputs": [],
   "source": [
    "       # teclea  a.   en el espacio de la izquierda y pulsa la tecla tabulador."
   ]
  },
  {
   "cell_type": "code",
   "execution_count": 15,
   "metadata": {},
   "outputs": [
    {
     "name": "stdout",
     "output_type": "stream",
     "text": [
      "20.0855369231877\n",
      "0.141120008059867\n",
      "1.15782128234958\n",
      "1.09861228866811\n"
     ]
    }
   ],
   "source": [
    "print(exp(a))        # Función exponencial, con base el número e. También se puede expresar como e**a\n",
    "print(sin(a))        # Ojo, en SageMath, la función seno se representa por sin( )\n",
    "print(tan(a + 1))    # Función tangente.\n",
    "print(log(a))        # Ojo, en SageMath, la función log( ) representa el logaritmo natural o neperiano."
   ]
  },
  {
   "cell_type": "code",
   "execution_count": 16,
   "metadata": {},
   "outputs": [],
   "source": [
    "x = var('x')\n",
    "f(x) = x^2 - 5*x + 7  # una función definida por una fórmula."
   ]
  },
  {
   "cell_type": "code",
   "execution_count": 17,
   "metadata": {},
   "outputs": [
    {
     "name": "stdout",
     "output_type": "stream",
     "text": [
      "3\n",
      "6.90040000000000\n"
     ]
    }
   ],
   "source": [
    "print(f(1))\n",
    "print(f(0.02))"
   ]
  },
  {
   "cell_type": "markdown",
   "metadata": {},
   "source": [
    "<p>Con la función <span style=\"color: #3366ff;\">limit(funcion,x=a)</span> podemos calcular límites. Si usamos la opción<span style=\"color: #3366ff;\"> dir='plus'</span> o <span style=\"color: #3366ff;\">dir='minus'</span>, calcularemos los límites a derecha e izquierda respectivamente.﻿﻿ También podemos resolver límites en el infinito, indicado con la asignación  x=<span style=\"color: #3366ff;\">+infinity</span> ó x=<span style=\"color: #3366ff;\">-infinity</span>.</p>"
   ]
  },
  {
   "cell_type": "code",
   "execution_count": 18,
   "metadata": {},
   "outputs": [
    {
     "data": {
      "text/plain": [
       "7"
      ]
     },
     "execution_count": 18,
     "metadata": {},
     "output_type": "execute_result"
    }
   ],
   "source": [
    "limit(f(x), x = 0)"
   ]
  },
  {
   "cell_type": "code",
   "execution_count": 19,
   "metadata": {},
   "outputs": [
    {
     "data": {
      "text/plain": [
       "+Infinity"
      ]
     },
     "execution_count": 19,
     "metadata": {},
     "output_type": "execute_result"
    }
   ],
   "source": [
    "limit(f(x), x = +infinity)"
   ]
  },
  {
   "cell_type": "code",
   "execution_count": 20,
   "metadata": {},
   "outputs": [
    {
     "data": {
      "text/plain": [
       "+Infinity"
      ]
     },
     "execution_count": 20,
     "metadata": {},
     "output_type": "execute_result"
    }
   ],
   "source": [
    "limit(f(x), x = -infinity)"
   ]
  },
  {
   "cell_type": "code",
   "execution_count": 21,
   "metadata": {},
   "outputs": [
    {
     "name": "stdout",
     "output_type": "stream",
     "text": [
      "7\n",
      "7\n"
     ]
    }
   ],
   "source": [
    "print(limit(f(x), x = 0, dir = 'plus'))\n",
    "print(limit(f(x), x = 0, dir = 'minus'))"
   ]
  },
  {
   "cell_type": "markdown",
   "metadata": {},
   "source": [
    "<p>Para calcular la derivada de una función usamos el método y función <span style=\"color: #3366ff;\">.diff()</span>, como argumentos tenemos los nombres de las variables a derivar (se puede omitir si no hay confusión posible) o cuántas veces derivamos.﻿</p>"
   ]
  },
  {
   "cell_type": "code",
   "execution_count": 22,
   "metadata": {},
   "outputs": [
    {
     "name": "stdout",
     "output_type": "stream",
     "text": [
      "x^2 - 5*x + 7\n",
      "2*x - 5\n",
      "2\n"
     ]
    }
   ],
   "source": [
    "print(f(x))\n",
    "fx(x) = f(x).diff(); print(fx(x))    # derivada primera\n",
    "fx2(x) = f(x).diff(2); print(fx2(x)) # derivada segunda"
   ]
  },
  {
   "cell_type": "code",
   "execution_count": 23,
   "metadata": {},
   "outputs": [
    {
     "name": "stdout",
     "output_type": "stream",
     "text": [
      "-3\n",
      "2\n"
     ]
    }
   ],
   "source": [
    "print(fx(1))  # evaluaciones de las derivadas en x=1\n",
    "print(fx2(1))"
   ]
  },
  {
   "cell_type": "markdown",
   "metadata": {},
   "source": [
    "<p>Podemos hallar una primitiva de la función $f(x)$ mediante el método `integral`. Igualmente, podemos resolver una integral definida $\\displaystyle \\int_a^b f(x)\\ dx$</p>"
   ]
  },
  {
   "cell_type": "code",
   "execution_count": 24,
   "metadata": {},
   "outputs": [
    {
     "data": {
      "text/plain": [
       "1/3*x^3 - 5/2*x^2 + 7*x"
      ]
     },
     "execution_count": 24,
     "metadata": {},
     "output_type": "execute_result"
    }
   ],
   "source": [
    "f(x).integral(x)      # una primitiva de la función; no se añade constante de integración"
   ]
  },
  {
   "cell_type": "code",
   "execution_count": 25,
   "metadata": {},
   "outputs": [
    {
     "data": {
      "text/plain": [
       "29/6"
      ]
     },
     "execution_count": 25,
     "metadata": {},
     "output_type": "execute_result"
    }
   ],
   "source": [
    "f(x).integral(x, 0, 1)    # integral definida en el intervalo [0, 1]"
   ]
  },
  {
   "cell_type": "markdown",
   "metadata": {},
   "source": [
    "<p><a href=\"#Inicio\">Volver al Índice</a></p>"
   ]
  },
  {
   "cell_type": "markdown",
   "metadata": {},
   "source": [
    "<p><a name=\"representacion\"></a></p>\n",
    "<h3>Representaciones gráficas</h3>\n",
    "<p>Podemos obtener la representación gráfica con la función y método <span style=\"color: #3366ff;\">.plot()</span>, por defecto, dibujará la función entre (-1,1) y en color azul. Existe multitud de opciones disponibles: podemos cambiar el color, grosor, la aparición o no de los ejes... Se puede obtener más información con plot?</p>"
   ]
  },
  {
   "cell_type": "code",
   "execution_count": 26,
   "metadata": {},
   "outputs": [
    {
     "data": {
      "image/png": "[encoded data removed]",
      "text/plain": [
       "Graphics object consisting of 1 graphics primitive"
      ]
     },
     "execution_count": 26,
     "metadata": {},
     "output_type": "execute_result"
    }
   ],
   "source": [
    "plot(f(x))"
   ]
  },
  {
   "cell_type": "code",
   "execution_count": 27,
   "metadata": {},
   "outputs": [
    {
     "data": {
      "image/png": "[encoded data removed]",
      "text/plain": [
       "Graphics object consisting of 1 graphics primitive"
      ]
     },
     "execution_count": 27,
     "metadata": {},
     "output_type": "execute_result"
    }
   ],
   "source": [
    "f(x).plot(-4, 9, color = 'green')"
   ]
  },
  {
   "cell_type": "markdown",
   "metadata": {},
   "source": [
    "<p>En el caso de que queramos dibujar varios objetos o gráficas simultáneamente, basta con usar el símbolo de suma +, y la orden y método <span style=\"color: #3366ff;\">.show()</span>.﻿</p>"
   ]
  },
  {
   "cell_type": "code",
   "execution_count": 28,
   "metadata": {},
   "outputs": [
    {
     "data": {
      "image/png": "[encoded data removed]",
      "text/plain": [
       "Graphics object consisting of 2 graphics primitives"
      ]
     },
     "metadata": {},
     "output_type": "display_data"
    }
   ],
   "source": [
    "grafico1 = cos(x).plot(-pi, pi, color = 'green')\n",
    "\n",
    "grafico2 = sin(x).plot(-pi, pi, color = 'red')\n",
    "\n",
    "grafico12 = grafico1 + grafico2  # la \"suma\" de dos gráficos\n",
    "\n",
    "show(grafico12)"
   ]
  },
  {
   "cell_type": "markdown",
   "metadata": {},
   "source": [
    "<p><a href=\"#Inicio\">Volver al Índice</a></p>"
   ]
  },
  {
   "cell_type": "markdown",
   "metadata": {},
   "source": [
    "<p><a name=\"programacion\"></a></p>\n",
    "<h3>Programación con SageMath</h3>\n",
    "<p>Vamos a introducir algunas ideas, mediante un sencillo ejemplo, de la creación de una función o rutina que devuelva cierto resultado a partir de unos datos o parámetros de entrada.</p>\n",
    "<p><strong>Ejemplo 1<br /></strong></p>\n",
    "<p>Hallar un procedimiento que, a partir de cierta función $f$ y de un valor $a$, devuelva la ecuación de la recta tangente a dicha función para el valor dado.</p>\n",
    "<p><strong>Solución</strong></p>\n",
    "<p>Recordemos que la ecuación de la recta tangente a la gráfica de $f$ en el punto de abscisa  $a$  es  $y=f(a)+f'(a)(x-a)$. Llamaremos a la rutina construida por nosotros: <span style=\"color: #0000ff;\">recta_tangente( )</span></p>"
   ]
  },
  {
   "cell_type": "code",
   "execution_count": 29,
   "metadata": {},
   "outputs": [],
   "source": [
    "def recta_tangente(f, x, a):\n",
    "    derf = f.diff()                 # calculamos la derivada de f y la llamamos derf\n",
    "    return f(a) + derf(a)*(x - a)   # devolvemos la expresión correspondiente a y de la recta tangente a f en x=a"
   ]
  },
  {
   "cell_type": "markdown",
   "metadata": {},
   "source": [
    "<p>El código de la celda anterior se corresponde al lenguaje de programación Python ya que el lenguaje de SageMath coincide con Python casi al 100%. Las palabras reservadas que se han usado son <span style=\"color: #0000ff;\">def</span>  y <span style=\"color: #0000ff;\">return <span style=\"color: #000000;\">; aparecen destacadas en color verde. Son muy importantes los 4 espacios que separan cada linea debajo de la primera. Mediante esta justificación, el programa determina todas las líneas de código que corresponden a la definición de la función que estamos creando. El usuario puede copiar este ejemplo para definir nuevas funciones sencillas.</span></span></p>\n",
    "<p><span style=\"color: #0000ff;\"><span style=\"color: #000000;\">A continuación ponemos a prueba su funcionamiento con un ejemplo de aplicación al cálculo de la recta tangente de una función concreta y en un punto determinado.<br /></span></span></p>"
   ]
  },
  {
   "cell_type": "code",
   "execution_count": 30,
   "metadata": {},
   "outputs": [],
   "source": [
    "x = var('x')\n",
    "f(x) = x^2 - 5*x + 5"
   ]
  },
  {
   "cell_type": "markdown",
   "metadata": {},
   "source": [
    "<p>La recta tangente en el punto x=2:</p>"
   ]
  },
  {
   "cell_type": "code",
   "execution_count": 31,
   "metadata": {},
   "outputs": [
    {
     "data": {
      "text/plain": [
       "-x + 1"
      ]
     },
     "execution_count": 31,
     "metadata": {},
     "output_type": "execute_result"
    }
   ],
   "source": [
    "recta_tangente(f, x, 2)"
   ]
  },
  {
   "cell_type": "markdown",
   "metadata": {},
   "source": [
    "<p>Lo representamos todo gráficamente:</p>"
   ]
  },
  {
   "cell_type": "code",
   "execution_count": 32,
   "metadata": {},
   "outputs": [
    {
     "data": {
      "image/png": "[encoded data removed]",
      "text/plain": [
       "Graphics object consisting of 2 graphics primitives"
      ]
     },
     "metadata": {},
     "output_type": "display_data"
    }
   ],
   "source": [
    "grafico1 = f(x).plot(-4, 9, color = 'green')\n",
    "\n",
    "grafico2 = recta_tangente(f, x, 2).plot(-4, 9, color = 'red')\n",
    "\n",
    "grafico12 = grafico1 + grafico2\n",
    "\n",
    "show(grafico12)"
   ]
  },
  {
   "cell_type": "markdown",
   "metadata": {},
   "source": [
    "<p><strong>Ejemplo 2</strong></p>\n",
    "<p>Definir una rutina que para cierta función $f$ genere una tabla de puntos $(x_i,f(x_i))$  para $x_i=a+d\\ i$, con $i=0,1,...n$.</p>\n",
    "<p><strong>Solución</strong></p>\n",
    "<p>Vamos a llamar a la rutina <span style=\"color: #0000ff;\">tabla_valores()</span></p>"
   ]
  },
  {
   "cell_type": "code",
   "execution_count": 33,
   "metadata": {},
   "outputs": [],
   "source": [
    "def tabla_valores(f, a, d, n):\n",
    "    return [ (xi, f(xi)) for xi in [a, a+d..a+d*n] ]   # directamente generamos una lista con los pares de valores"
   ]
  },
  {
   "cell_type": "markdown",
   "metadata": {},
   "source": [
    "<p>En el código anterior, las palabras reservadas de programación son: <span style=\"color: #0000ff;\">def, for, in,  return.</span> Obsérvese que  <span style=\"color: #0000ff;\">return</span> aparece diferenciado tomando todas sus líneas con una justificación extra de 4 espacios hacia la derecha, para marcar que está dentro del bloque de definición de la función.\n",
    "     \n",
    "La notación `[a, a+d..a+d*n]`  no forma parte de la sintaxis PYTHON; es propia de SageMath.    \n",
    "\n",
    "<p>Lo probamos generando una tabla de 10 puntos:</p>"
   ]
  },
  {
   "cell_type": "code",
   "execution_count": 34,
   "metadata": {},
   "outputs": [
    {
     "data": {
      "text/plain": [
       "[(0.000000000000000, 5),\n",
       " (0.500000000000000, 2.75000000000000),\n",
       " (1.00000000000000, 1.00000000000000),\n",
       " (1.50000000000000, -0.250000000000000),\n",
       " (2.00000000000000, -1.00000000000000),\n",
       " (2.50000000000000, -1.25000000000000),\n",
       " (3.00000000000000, -1.00000000000000),\n",
       " (3.50000000000000, -0.250000000000000),\n",
       " (4.00000000000000, 1.00000000000000),\n",
       " (4.50000000000000, 2.75000000000000),\n",
       " (5.00000000000000, 5.00000000000000)]"
      ]
     },
     "execution_count": 34,
     "metadata": {},
     "output_type": "execute_result"
    }
   ],
   "source": [
    "tabla_valores(f, 0, 0.5, 10)"
   ]
  },
  {
   "cell_type": "markdown",
   "metadata": {},
   "source": [
    "<p><strong>Ejemplo 3</strong></p>\n",
    "<p>Modificaremos la rutina anterior para que, en caso de detectar un cambio de signo en $f(x)$ desde un valor $x_i$ al siguiente $x_{i+1}$, nos muestre un mensaje avisando del evento y otro avisando si sucede que $f(x_i)=0$.</p>\n",
    "<p><strong>Solución</strong></p>\n",
    "<p>Llamaremos a la rutina <span style=\"color: #0000ff;\">cambio_signo()<span style=\"color: #000000;\">. Utilizaremos una función de SageMath llamada sign() que proporciona valores 0,+1,-1 según el signo de su argumento.</span><br /></span></p>"
   ]
  },
  {
   "cell_type": "code",
   "execution_count": 35,
   "metadata": {},
   "outputs": [],
   "source": [
    "def cambio_signo(f, a, d, n):\n",
    "    signo1 = sign(f(a))              # hallamos el signo de f(a) y lo guardamos en signo1\n",
    "    for xi in [a+d, a+2*d..a+d*n]:   # iniciamos un bucle desde el 2º valor hasta el último\n",
    "        signo2 = sign(f(xi))         # hallamos el signo de f(xi) y lo guardamos en signo2\n",
    "        print(xi,f(xi))              # imprimimos el par de valores\n",
    "        if signo2 == 0:              # comprobamos si se anula signo2\n",
    "            print('Hay un cero en x=', xi)\n",
    "        else:                        # en caso de que no se anule signo2\n",
    "            if (signo1 > 0 and signo2 < 0) or (signo1 < 0 and signo2 >0):\n",
    "                print('Hay cambio de signo entre ',xi - d,' y ', xi)\n",
    "        signo1 = signo2              # actualizamos variables; en el siguiente bucle signo1 copia el valor de signo2"
   ]
  },
  {
   "cell_type": "markdown",
   "metadata": {},
   "source": [
    "<p>En el código anterior, al bloque principal def, hemos añadido un bloque for que, a su vez, contiene a un bloque if-else. Este último contiene un nuevo bloque if. Las palabras reservadas son<span style=\"color: #0000ff;\"> def, for, in,  sign, print, if, else</span>.</p>\n",
    "<p>Lo probamos, generando una nueva tabla de 10 puntos:</p>"
   ]
  },
  {
   "cell_type": "code",
   "execution_count": 36,
   "metadata": {},
   "outputs": [
    {
     "name": "stdout",
     "output_type": "stream",
     "text": [
      "0.500000000000000 2.75000000000000\n",
      "1.00000000000000 1.00000000000000\n",
      "1.50000000000000 -0.250000000000000\n",
      "Hay cambio de signo entre  1.00000000000000  y  1.50000000000000\n",
      "2.00000000000000 -1.00000000000000\n",
      "2.50000000000000 -1.25000000000000\n",
      "3.00000000000000 -1.00000000000000\n",
      "3.50000000000000 -0.250000000000000\n",
      "4.00000000000000 1.00000000000000\n",
      "Hay cambio de signo entre  3.50000000000000  y  4.00000000000000\n",
      "4.50000000000000 2.75000000000000\n",
      "5.00000000000000 5.00000000000000\n"
     ]
    }
   ],
   "source": [
    "cambio_signo(f, 0, 0.5, 10)"
   ]
  },
  {
   "cell_type": "markdown",
   "metadata": {},
   "source": [
    "<p><a href=\"#Inicio\">Volver al Índice</a></p>\n",
    "\n",
    "<h3><a name=\"cuestionario\"></a></h3>\n",
    "<h3>CUESTIONARIO PARA EL ALUMNADO</h3>\n",
    "Introduce en la variable NUMERO_CUESTIONARIO, que aparece más abajo, el número correspondiente al cuestionario que te han asignado y ejecuta la celda (pulsa Shift + Enter desde dentro de la celda). Accederá a un cuestionario con respuestas tipo test que se entregará antes de la hora de finalización de la práctica."
   ]
  },
  {
   "cell_type": "code",
   "execution_count": 1,
   "metadata": {},
   "outputs": [
    {
     "data": {
      "text/html": [
       "<center><h4>E.T.S.I.I. - GRADOS EN INGENIERÍA INFORMÁTICA</h4></center><center><h4>Cálculo Infinitesimal y Numérico - PRIMERA PRÁCTICA DE LABORATORIO</h4></center><hr  align=center><center>APELLIDOS, NOMBRE: <INPUT value= \"\",type=text size=70> <INPUT type=submit value=221-68F9A><hr  align=center></center><hr  align=center><b> <span style=\"color: #0000ff;\">EJERCICIO 1 </span></b><br> Consideremos la función de una variable <script type=\"math/tex\">f(x)=x^4-2x</script>. Se pide:<ol><li>El valor numérico de <script type=\"math/tex\">f(x)</script> para <script type=\"math/tex\">x=-1.1</script> tomando <script type=\"math/tex\">4</script> dígitos.</li><li>La función derivada segunda.</li><li>El valor de <script type=\"math/tex\">\\displaystyle\\lim_{x \\rightarrow a}{f(x)}</script>, para <script type=\"math/tex\">a=5</script>.</li><li>La función primitiva <script type=\"math/tex\">\\displaystyle\\int f(x)\\ dx</script>.</li><li>El valor de la integral definida <script type=\"math/tex\">\\displaystyle\\int_{1}^{3} f(x)\\ dx</script>.</li></ol> <br><hr  align=center><b> <span style=\"color: #ff0000;\">Respuesta al apartado 1 </span></b><br><br> 1.<input type=checkbox> -0.39840 <br> 2.<input type=checkbox> 3.6641 <br> 3.<input type=checkbox> 2.8003 <br> 4.<input type=checkbox> 4.32800<br><br><b> <span style=\"color: #ff0000;\">Respuesta al apartado 2 </span></b><br><br> 1.<input type=checkbox> <script type=\"math/tex\"> 12 \\, x </script> <br> 2.<input type=checkbox> <script type=\"math/tex\"> 36 \\, x^{2} </script> <br> 3.<input type=checkbox> <script type=\"math/tex\"> 6 \\, x </script> <br> 4.<input type=checkbox> <script type=\"math/tex\"> 12 \\, x^{2} </script><br><br><b> <span style=\"color: #ff0000;\">Respuesta al apartado 3 </span></b><br><br> 1.<input type=checkbox> 20 <br> 2.<input type=checkbox> 9 <br> 3.<input type=checkbox> 615 <br> 4.<input type=checkbox> Ninguna de las otras respuestas.<br><br><b> <span style=\"color: #ff0000;\">Respuesta al apartado 4 </span></b><br><br> 1.<input type=checkbox> <script type=\"math/tex\">\\displaystyle \\frac{1}{5} \\, x^{5} - x^{2} </script> <br> 2.<input type=checkbox> <script type=\"math/tex\">\\displaystyle \\frac{1}{4} \\, x^{4} - x^{2} + 5 \\, x </script> <br> 3.<input type=checkbox> <script type=\"math/tex\">\\displaystyle \\frac{1}{2} \\, x^{4} - \\frac{1}{2} \\, x^{2} + x </script> <br> 4.<input type=checkbox> <script type=\"math/tex\">\\displaystyle \\frac{3}{5} \\, x^{5} - \\frac{7}{2} \\, x^{2} + x </script><br><br><b> <span style=\"color: #ff0000;\">Respuesta al apartado 5 </span></b><br><br> 1.<input type=checkbox> -19/10 <br> 2.<input type=checkbox> 2 <br> 3.<input type=checkbox> 8/3 <br> 4.<input type=checkbox> 202/5<br><br><hr  align=center><b> <span style=\"color: #0000ff;\">EJERCICIO 2 </span></b><br> Representar gráficamente las funciones <script type=\"math/tex\">f(x)=x+sen(x-1)</script> y <script type=\"math/tex\">g(x)=\\displaystyle e^{-x+\\frac12}</script> \n",
       " en el intervalo <script type=\"math/tex\">[-2,3]</script>. Se pide:<ol><li>Encontrar un subintervalo de longitud uno y extremos números enteros \n",
       " que contenga una raíz de <script type=\"math/tex\">f(x)=0</script>.</li><li>Hallar la ecuación de la recta tangente a la curva <script type=\"math/tex\">y=f(x)</script> en el \n",
       " punto <script type=\"math/tex\">x=1</script>.</li><li>Encontrar un subintervalo de longitud uno y extremos números enteros \n",
       " que contenga un punto de corte <script type=\"math/tex\">f(x)=g(x)</script>.</li><li>Sean los valores de <script type=\"math/tex\">f(x)</script> y de <script type=\"math/tex\">g(x)</script> en el \n",
       " punto <script type=\"math/tex\">x=2.8</script>. Hallar el valor numérico máximo de entre los dos. </li></ol>Nota: la función seno se expresa por sin( ) y la expresión log( ) representa el logaritmo neperiano o natural.<br><hr  align=center><b> <span style=\"color: #ff0000;\">Respuesta al apartado 1 </span></b><br><br> 1.<input type=checkbox> <script type=\"math/tex\">[-1,0]</script> <br> 2.<input type=checkbox> <script type=\"math/tex\">[3,4]</script> <br> 3.<input type=checkbox> <script type=\"math/tex\">[1,2]</script> <br> 4.<input type=checkbox> <script type=\"math/tex\">[0,1]</script><br><br><b> <span style=\"color: #ff0000;\">Respuesta al apartado 2 </span></b><br><br> 1.<input type=checkbox> <script type=\"math/tex\"> y=1.54030230586814 \\, x - 0.239133626928383</script> <br> 2.<input type=checkbox> <script type=\"math/tex\"> y=1.87758256189037 \\, x - 0.918216819549389</script> <br> 3.<input type=checkbox> <script type=\"math/tex\"> y=2 \\, x - 1</script> <br> 4.<input type=checkbox> <script type=\"math/tex\"> y=0.800000000000000 \\, x + 1.30714871779409</script><br><br><b> <span style=\"color: #ff0000;\">Respuesta al apartado 3 </span></b><br><br> 1.<input type=checkbox> <script type=\"math/tex\">[0,1 ]</script> <br> 2.<input type=checkbox> <script type=\"math/tex\">[2,3 ]</script> <br> 3.<input type=checkbox> <script type=\"math/tex\">[-2,-1 ]</script> <br> 4.<input type=checkbox> <script type=\"math/tex\">[1,2 ]</script><br><br><b> <span style=\"color: #ff0000;\">Respuesta al apartado 4 </span></b><br><br> 1.<input type=checkbox> 3.77384763087819 <br> 2.<input type=checkbox> 0.408544970054710 <br> 3.<input type=checkbox> 2.55359612142558 <br> 4.<input type=checkbox> 2.38324299601150<br><br><hr  align=center><center><span style=\"font-size: x-small;\"> Final del cuestionario </span></center>"
      ],
      "text/plain": [
       "<center><h4>E.T.S.I.I. - GRADOS EN INGENIERÍA INFORMÁTICA</h4></center><center><h4>Cálculo Infinitesimal y Numérico - PRIMERA PRÁCTICA DE LABORATORIO</h4></center><hr  align=center><center>APELLIDOS, NOMBRE: <INPUT value= \"\",type=text size=70> <INPUT type=submit value=221-68F9A><hr  align=center></center><hr  align=center><b> <span style=\"color: #0000ff;\">EJERCICIO 1 </span></b><br> Consideremos la función de una variable <script type=\"math/tex\">f(x)=x^4-2x</script>. Se pide:<ol><li>El valor numérico de <script type=\"math/tex\">f(x)</script> para <script type=\"math/tex\">x=-1.1</script> tomando <script type=\"math/tex\">4</script> dígitos.</li><li>La función derivada segunda.</li><li>El valor de <script type=\"math/tex\">\\displaystyle\\lim_{x \\rightarrow a}{f(x)}</script>, para <script type=\"math/tex\">a=5</script>.</li><li>La función primitiva <script type=\"math/tex\">\\displaystyle\\int f(x)\\ dx</script>.</li><li>El valor de la integral definida <script type=\"math/tex\">\\displaystyle\\int_{1}^{3} f(x)\\ dx</script>.</li></ol> <br><hr  align=center><b> <span style=\"color: #ff0000;\">Respuesta al apartado 1 </span></b><br><br> 1.<input type=checkbox> -0.39840 <br> 2.<input type=checkbox> 3.6641 <br> 3.<input type=checkbox> 2.8003 <br> 4.<input type=checkbox> 4.32800<br><br><b> <span style=\"color: #ff0000;\">Respuesta al apartado 2 </span></b><br><br> 1.<input type=checkbox> <script type=\"math/tex\"> 12 \\, x </script> <br> 2.<input type=checkbox> <script type=\"math/tex\"> 36 \\, x^{2} </script> <br> 3.<input type=checkbox> <script type=\"math/tex\"> 6 \\, x </script> <br> 4.<input type=checkbox> <script type=\"math/tex\"> 12 \\, x^{2} </script><br><br><b> <span style=\"color: #ff0000;\">Respuesta al apartado 3 </span></b><br><br> 1.<input type=checkbox> 20 <br> 2.<input type=checkbox> 9 <br> 3.<input type=checkbox> 615 <br> 4.<input type=checkbox> Ninguna de las otras respuestas.<br><br><b> <span style=\"color: #ff0000;\">Respuesta al apartado 4 </span></b><br><br> 1.<input type=checkbox> <script type=\"math/tex\">\\displaystyle \\frac{1}{5} \\, x^{5} - x^{2} </script> <br> 2.<input type=checkbox> <script type=\"math/tex\">\\displaystyle \\frac{1}{4} \\, x^{4} - x^{2} + 5 \\, x </script> <br> 3.<input type=checkbox> <script type=\"math/tex\">\\displaystyle \\frac{1}{2} \\, x^{4} - \\frac{1}{2} \\, x^{2} + x </script> <br> 4.<input type=checkbox> <script type=\"math/tex\">\\displaystyle \\frac{3}{5} \\, x^{5} - \\frac{7}{2} \\, x^{2} + x </script><br><br><b> <span style=\"color: #ff0000;\">Respuesta al apartado 5 </span></b><br><br> 1.<input type=checkbox> -19/10 <br> 2.<input type=checkbox> 2 <br> 3.<input type=checkbox> 8/3 <br> 4.<input type=checkbox> 202/5<br><br><hr  align=center><b> <span style=\"color: #0000ff;\">EJERCICIO 2 </span></b><br> Representar gráficamente las funciones <script type=\"math/tex\">f(x)=x+sen(x-1)</script> y <script type=\"math/tex\">g(x)=\\displaystyle e^{-x+\\frac12}</script> \n",
       " en el intervalo <script type=\"math/tex\">[-2,3]</script>. Se pide:<ol><li>Encontrar un subintervalo de longitud uno y extremos números enteros \n",
       " que contenga una raíz de <script type=\"math/tex\">f(x)=0</script>.</li><li>Hallar la ecuación de la recta tangente a la curva <script type=\"math/tex\">y=f(x)</script> en el \n",
       " punto <script type=\"math/tex\">x=1</script>.</li><li>Encontrar un subintervalo de longitud uno y extremos números enteros \n",
       " que contenga un punto de corte <script type=\"math/tex\">f(x)=g(x)</script>.</li><li>Sean los valores de <script type=\"math/tex\">f(x)</script> y de <script type=\"math/tex\">g(x)</script> en el \n",
       " punto <script type=\"math/tex\">x=2.8</script>. Hallar el valor numérico máximo de entre los dos. </li></ol>Nota: la función seno se expresa por sin( ) y la expresión log( ) representa el logaritmo neperiano o natural.<br><hr  align=center><b> <span style=\"color: #ff0000;\">Respuesta al apartado 1 </span></b><br><br> 1.<input type=checkbox> <script type=\"math/tex\">[-1,0]</script> <br> 2.<input type=checkbox> <script type=\"math/tex\">[3,4]</script> <br> 3.<input type=checkbox> <script type=\"math/tex\">[1,2]</script> <br> 4.<input type=checkbox> <script type=\"math/tex\">[0,1]</script><br><br><b> <span style=\"color: #ff0000;\">Respuesta al apartado 2 </span></b><br><br> 1.<input type=checkbox> <script type=\"math/tex\"> y=1.54030230586814 \\, x - 0.239133626928383</script> <br> 2.<input type=checkbox> <script type=\"math/tex\"> y=1.87758256189037 \\, x - 0.918216819549389</script> <br> 3.<input type=checkbox> <script type=\"math/tex\"> y=2 \\, x - 1</script> <br> 4.<input type=checkbox> <script type=\"math/tex\"> y=0.800000000000000 \\, x + 1.30714871779409</script><br><br><b> <span style=\"color: #ff0000;\">Respuesta al apartado 3 </span></b><br><br> 1.<input type=checkbox> <script type=\"math/tex\">[0,1 ]</script> <br> 2.<input type=checkbox> <script type=\"math/tex\">[2,3 ]</script> <br> 3.<input type=checkbox> <script type=\"math/tex\">[-2,-1 ]</script> <br> 4.<input type=checkbox> <script type=\"math/tex\">[1,2 ]</script><br><br><b> <span style=\"color: #ff0000;\">Respuesta al apartado 4 </span></b><br><br> 1.<input type=checkbox> 3.77384763087819 <br> 2.<input type=checkbox> 0.408544970054710 <br> 3.<input type=checkbox> 2.55359612142558 <br> 4.<input type=checkbox> 2.38324299601150<br><br><hr  align=center><center><span style=\"font-size: x-small;\"> Final del cuestionario </span></center>"
      ]
     },
     "metadata": {},
     "output_type": "display_data"
    }
   ],
   "source": [
    "NUMERO_CUESTIONARIO = 221\n",
    "\n",
    "\n",
    "### no modificar el siguiente código\n",
    "\n",
    "NOMBRE_FICHERO_CUESTIONARIO = 'CIN_L1_t.htl'\n",
    "load('codigo_examinar_html.sage')\n",
    "if NUMERO_CUESTIONARIO>0:\n",
    "    lector_examenes(NOMBRE_FICHERO_CUESTIONARIO,NUMERO_CUESTIONARIO,False)"
   ]
  },
  {
   "cell_type": "markdown",
   "metadata": {},
   "source": [
    "<p><a href=\"#Inicio\">Volver al Índice</a></p>"
   ]
  },
  {
   "cell_type": "code",
   "execution_count": null,
   "metadata": {},
   "outputs": [],
   "source": []
  }
 ],
 "metadata": {
  "kernelspec": {
   "display_name": "SageMath 9.1",
   "language": "sage",
   "name": "sagemath"
  },
  "language": "python",
  "language_info": {
   "codemirror_mode": {
    "name": "ipython",
    "version": 3
   },
   "file_extension": ".py",
   "mimetype": "text/x-python",
   "name": "python",
   "nbconvert_exporter": "python",
   "pygments_lexer": "ipython3",
   "version": "3.7.3"
  }
 },
 "nbformat": 4,
 "nbformat_minor": 4
}
